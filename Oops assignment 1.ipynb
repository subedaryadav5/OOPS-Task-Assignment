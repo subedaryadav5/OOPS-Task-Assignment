{
 "cells": [
  {
   "cell_type": "code",
   "execution_count": 3,
   "id": "75279c80-91e4-4e04-bcf5-bdbfe8409310",
   "metadata": {},
   "outputs": [],
   "source": [
    "\"\"\"Q1, Create a vehicle class with an init method having instance variables as name_of_vehicle, max_speed an\n",
    "       average_of_vehicle.\"\"\"\n",
    "\n",
    "class vehicle:\n",
    "    \n",
    "    def __init__(self, name_of_vehicle,max_speed,average_of_vehicle):\n",
    "        self.name_of_vehicle=name_of_vehicle\n",
    "        self.max_speed=max_speed\n",
    "        self.average_of_vehicle=average_of_vehicle\n",
    "        \n",
    "    def get_vehicle_name(self):\n",
    "        return self.name_of_vehicle\n",
    "    def get_max_speed_of_the_vehicle(self):\n",
    "        return self.max_speed\n",
    "    def get_average_of_the_vehicle(self):\n",
    "        return self.average_of_vehicle"
   ]
  },
  {
   "cell_type": "code",
   "execution_count": 4,
   "id": "245ad7a9-c53c-44ca-a29c-33c512b042f4",
   "metadata": {},
   "outputs": [],
   "source": [
    "vehicle1=vehicle(\"Maruti\",120,20)"
   ]
  },
  {
   "cell_type": "code",
   "execution_count": 5,
   "id": "8bdfdfad-88df-4f39-9d6e-414f20aad151",
   "metadata": {},
   "outputs": [
    {
     "data": {
      "text/plain": [
       "'Maruti'"
      ]
     },
     "execution_count": 5,
     "metadata": {},
     "output_type": "execute_result"
    }
   ],
   "source": [
    "vehicle1.name_of_vehicle"
   ]
  },
  {
   "cell_type": "code",
   "execution_count": 6,
   "id": "1eb4f9fb-1173-457a-b057-cf11b741678a",
   "metadata": {},
   "outputs": [
    {
     "data": {
      "text/plain": [
       "120"
      ]
     },
     "execution_count": 6,
     "metadata": {},
     "output_type": "execute_result"
    }
   ],
   "source": [
    "vehicle1.max_speed"
   ]
  },
  {
   "cell_type": "code",
   "execution_count": 8,
   "id": "66539c7a-f767-4512-8c8f-f14bebafc77d",
   "metadata": {},
   "outputs": [
    {
     "data": {
      "text/plain": [
       "'Maruti'"
      ]
     },
     "execution_count": 8,
     "metadata": {},
     "output_type": "execute_result"
    }
   ],
   "source": [
    "vehicle1.get_vehicle_name()"
   ]
  },
  {
   "cell_type": "code",
   "execution_count": 7,
   "id": "1c865ec1-648c-4628-a794-297dde2fbbbd",
   "metadata": {},
   "outputs": [
    {
     "data": {
      "text/plain": [
       "120"
      ]
     },
     "execution_count": 7,
     "metadata": {},
     "output_type": "execute_result"
    }
   ],
   "source": [
    "vehicle1.get_max_speed_of_the_vehicle()"
   ]
  },
  {
   "cell_type": "code",
   "execution_count": 9,
   "id": "99394116-09aa-4c56-8d13-ca17c144fb69",
   "metadata": {},
   "outputs": [
    {
     "data": {
      "text/plain": [
       "20"
      ]
     },
     "execution_count": 9,
     "metadata": {},
     "output_type": "execute_result"
    }
   ],
   "source": [
    "vehicle1.get_average_of_the_vehicle()"
   ]
  },
  {
   "cell_type": "code",
   "execution_count": 10,
   "id": "6f166a73-4862-461d-8b7f-f9c874be0b9e",
   "metadata": {},
   "outputs": [],
   "source": [
    "\"\"\"Q2. Create a child class car from the vehicle class created in Que 1, which will inherit the vehicle class.\n",
    "Create a method named seating_capacity which takes capacity as an argument and returns the name of\n",
    "the vehicle and its seating capacity.\"\"\"\n",
    "\n",
    "class car(vehicle):\n",
    "    \n",
    "    def seating_capacity(self, seating_capacity):\n",
    "        return self.name_of_vehicle, seating_capacity"
   ]
  },
  {
   "cell_type": "code",
   "execution_count": 11,
   "id": "c776da02-166a-4048-bd3a-341fba3ef484",
   "metadata": {},
   "outputs": [],
   "source": [
    "car1=car(\"Audi\",240,15)"
   ]
  },
  {
   "cell_type": "code",
   "execution_count": 12,
   "id": "104b7cdc-3670-4b17-b51a-1987cdfd1662",
   "metadata": {},
   "outputs": [
    {
     "data": {
      "text/plain": [
       "('Audi', 5)"
      ]
     },
     "execution_count": 12,
     "metadata": {},
     "output_type": "execute_result"
    }
   ],
   "source": [
    "car1.seating_capacity(5)"
   ]
  },
  {
   "cell_type": "code",
   "execution_count": 13,
   "id": "6a56c919-63ad-4cc9-b9f7-5628243897c0",
   "metadata": {},
   "outputs": [],
   "source": [
    "car2=car(\"BMW\", 320, 12)"
   ]
  },
  {
   "cell_type": "code",
   "execution_count": 15,
   "id": "229a9093-78be-4b9e-a972-53d3bffd3f6c",
   "metadata": {},
   "outputs": [
    {
     "data": {
      "text/plain": [
       "('BMW', 7)"
      ]
     },
     "execution_count": 15,
     "metadata": {},
     "output_type": "execute_result"
    }
   ],
   "source": [
    "car2.seating_capacity(7)"
   ]
  },
  {
   "cell_type": "code",
   "execution_count": 147,
   "id": "a49eabbe-d65b-4a92-b511-5dfdc919d380",
   "metadata": {},
   "outputs": [],
   "source": [
    "'''Q3. What is multiple inheritance? Write a python code to demonstrate multiple inheritance.'''\n",
    "\n",
    "# Multiple inheritance is a feature in which a class inherits the properties from multiple parent classes.\n",
    "\n",
    "# Example \n",
    "\n",
    "class class1:\n",
    "    \n",
    "    def name(self, person_name):\n",
    "        self.person_name=person_name\n",
    "        print(f\"My name is {self.person_name}.\")\n",
    "    \n",
    "class class2:\n",
    "    \n",
    "    def age(self,person_age):\n",
    "        self.person_age=person_age\n",
    "        print(f\"I'm {self.person_age} years old.\")\n",
    "           \n",
    "    \n",
    "class class3(class1,class2):\n",
    "        \n",
    "    def details(self):\n",
    "        return \"This is multiple inheritance\""
   ]
  },
  {
   "cell_type": "code",
   "execution_count": 156,
   "id": "447698b8-acac-4d15-b7ec-ce967b72378a",
   "metadata": {},
   "outputs": [],
   "source": [
    "Obj_class3=class3()"
   ]
  },
  {
   "cell_type": "code",
   "execution_count": 157,
   "id": "3615de4a-c8ba-4bf1-b2a2-b5c6c3e1649e",
   "metadata": {},
   "outputs": [
    {
     "data": {
      "text/plain": [
       "'This is multiple inheritance'"
      ]
     },
     "execution_count": 157,
     "metadata": {},
     "output_type": "execute_result"
    }
   ],
   "source": [
    "Obj_class3.details()"
   ]
  },
  {
   "cell_type": "code",
   "execution_count": 158,
   "id": "840de7b8-a9e9-4f68-95ec-eb4416bd56ac",
   "metadata": {},
   "outputs": [
    {
     "name": "stdout",
     "output_type": "stream",
     "text": [
      "My name is Subedar.\n"
     ]
    }
   ],
   "source": [
    "Obj_class3.name(\"Subedar\")"
   ]
  },
  {
   "cell_type": "code",
   "execution_count": 159,
   "id": "1a3fe3aa-ba53-45e3-8e70-a1797ab84b6b",
   "metadata": {},
   "outputs": [
    {
     "name": "stdout",
     "output_type": "stream",
     "text": [
      "I'm 27 years old.\n"
     ]
    }
   ],
   "source": [
    "Obj_class3.age(27)"
   ]
  },
  {
   "cell_type": "code",
   "execution_count": 19,
   "id": "d77036d2-e971-4cf3-840f-efdd252641f3",
   "metadata": {},
   "outputs": [],
   "source": [
    "\"\"\"Q4. What are getter and setter in python? Create a class and create a getter and a setter method in this\n",
    "class.\"\"\"\n",
    "\n",
    "# Ans : Getter and Setter are the prpperty decorators. Getter is used to access a private & protected object. Setter is used \n",
    "#       modify the private & protected class.\n",
    "\n",
    "\n",
    "class info:\n",
    "    \n",
    "    def __init__(self, name, age, phone_number):\n",
    "        self.name=name\n",
    "        self.age=age\n",
    "        self.__phone_number=phone_number\n",
    "        \n",
    "    @property\n",
    "    def access_phone_number(self):\n",
    "        return self.__phone_number\n",
    "    \n",
    "    @access_phone_number.getter\n",
    "    def get_phone_number(self):\n",
    "        return self.__phone_number\n",
    "    \n",
    "    @access_phone_number.setter\n",
    "    def change_phone_number(self,phone):\n",
    "        self.__phone_number=phone"
   ]
  },
  {
   "cell_type": "code",
   "execution_count": 28,
   "id": "d7126f65-0e1e-406b-a2c8-af1af58bdd5e",
   "metadata": {},
   "outputs": [],
   "source": [
    "Student1=info(\"Subedar\", 27,99553322512)"
   ]
  },
  {
   "cell_type": "code",
   "execution_count": 29,
   "id": "0dcb3949-7a07-4a93-b573-9b0f8c3cb1a1",
   "metadata": {},
   "outputs": [
    {
     "data": {
      "text/plain": [
       "99553322512"
      ]
     },
     "execution_count": 29,
     "metadata": {},
     "output_type": "execute_result"
    }
   ],
   "source": [
    "Student1.access_phone_number"
   ]
  },
  {
   "cell_type": "code",
   "execution_count": 30,
   "id": "81901e22-269e-4c91-b2f8-51ad08163603",
   "metadata": {},
   "outputs": [
    {
     "data": {
      "text/plain": [
       "99553322512"
      ]
     },
     "execution_count": 30,
     "metadata": {},
     "output_type": "execute_result"
    }
   ],
   "source": [
    "Student1.get_phone_number"
   ]
  },
  {
   "cell_type": "code",
   "execution_count": 26,
   "id": "4f7b9e8f-d130-4f0e-bd3f-78cb62719cdd",
   "metadata": {},
   "outputs": [],
   "source": [
    "Student1.change_phone_number=7022504886"
   ]
  },
  {
   "cell_type": "code",
   "execution_count": 27,
   "id": "9634ba6f-0950-4c96-b618-cd040b47f9fd",
   "metadata": {},
   "outputs": [
    {
     "data": {
      "text/plain": [
       "7022504886"
      ]
     },
     "execution_count": 27,
     "metadata": {},
     "output_type": "execute_result"
    }
   ],
   "source": [
    "Student1.get_phone_number"
   ]
  },
  {
   "cell_type": "code",
   "execution_count": 50,
   "id": "43bf5eb8-a0f9-4a68-a8dc-955520192c47",
   "metadata": {},
   "outputs": [],
   "source": [
    "\"\"\"Q5.What is method overriding in python? Write a python code to demonstrate method overriding.\"\"\"\n",
    "\n",
    "\"\"\" Ans : Method overriding is a concept in oops when a subclass is allowed to modify a method which is defined in the parent\n",
    "          class.\"\"\"\n",
    "\n",
    "class vehicle:\n",
    "    \n",
    "    def fuel_used(self):\n",
    "        print(\"Different vehicle uses different types of fuels depending on their engine type\")\n",
    "        \n",
    "    def mode_of_transport(self):\n",
    "        print(\"This is a land transport\")\n",
    "        \n",
    "class truck(vehicle):\n",
    "    \n",
    "    def fuel_used(self):\n",
    "        print(\"Trucks runs on Diesel\")\n",
    "        \n",
    "class cars(vehicle):\n",
    "    \n",
    "    def fuel_used(self):\n",
    "        print(\"Cars runs on petrol\")"
   ]
  },
  {
   "cell_type": "code",
   "execution_count": 51,
   "id": "6583752e-b551-47b6-bd1f-cc6b0fe023d0",
   "metadata": {},
   "outputs": [],
   "source": [
    "Vehicle=vehicle()"
   ]
  },
  {
   "cell_type": "code",
   "execution_count": 52,
   "id": "2cd1384a-880c-4398-b5bc-686531389bf4",
   "metadata": {},
   "outputs": [
    {
     "name": "stdout",
     "output_type": "stream",
     "text": [
      "Different vehicle uses different types of fuels depending on their engine type\n"
     ]
    }
   ],
   "source": [
    "Vehicle.fuel_used()"
   ]
  },
  {
   "cell_type": "code",
   "execution_count": 53,
   "id": "978179bc-3870-4ea9-97c7-b8c4ac5198f9",
   "metadata": {},
   "outputs": [],
   "source": [
    "Truck=truck()"
   ]
  },
  {
   "cell_type": "code",
   "execution_count": 54,
   "id": "a1ceed37-b58d-4e6a-ba29-96a07819e1a9",
   "metadata": {},
   "outputs": [
    {
     "name": "stdout",
     "output_type": "stream",
     "text": [
      "Trucks runs on Diesel\n"
     ]
    }
   ],
   "source": [
    "Truck.fuel_used()"
   ]
  },
  {
   "cell_type": "code",
   "execution_count": 56,
   "id": "c90e4e3b-b523-435f-8480-5974f013baa0",
   "metadata": {},
   "outputs": [
    {
     "name": "stdout",
     "output_type": "stream",
     "text": [
      "This is a land transport\n"
     ]
    }
   ],
   "source": [
    "Truck.mode_of_transport()"
   ]
  },
  {
   "cell_type": "code",
   "execution_count": 47,
   "id": "ebdf0233-96f3-4f35-b7aa-fe262318f3fc",
   "metadata": {},
   "outputs": [],
   "source": [
    "Cars=cars()"
   ]
  },
  {
   "cell_type": "code",
   "execution_count": 48,
   "id": "9a95b14a-dc39-402d-9cba-eeecf87b4838",
   "metadata": {},
   "outputs": [
    {
     "name": "stdout",
     "output_type": "stream",
     "text": [
      "Cars runs on petrol\n"
     ]
    }
   ],
   "source": [
    "Cars.fuel_used()"
   ]
  },
  {
   "cell_type": "code",
   "execution_count": null,
   "id": "c7e695c5-0eeb-481f-ac96-8ce6c02ea4b0",
   "metadata": {},
   "outputs": [],
   "source": []
  }
 ],
 "metadata": {
  "kernelspec": {
   "display_name": "Python 3 (ipykernel)",
   "language": "python",
   "name": "python3"
  },
  "language_info": {
   "codemirror_mode": {
    "name": "ipython",
    "version": 3
   },
   "file_extension": ".py",
   "mimetype": "text/x-python",
   "name": "python",
   "nbconvert_exporter": "python",
   "pygments_lexer": "ipython3",
   "version": "3.10.8"
  }
 },
 "nbformat": 4,
 "nbformat_minor": 5
}
